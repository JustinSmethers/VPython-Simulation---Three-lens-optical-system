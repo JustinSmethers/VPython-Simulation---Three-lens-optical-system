{
 "cells": [
  {
   "cell_type": "code",
   "execution_count": 1,
   "metadata": {
    "scrolled": true
   },
   "outputs": [
    {
     "data": {
      "application/javascript": [
       "if (typeof Jupyter !== \"undefined\") {require.undef(\"nbextensions/vpython_libraries/glow.min\");}else{element.textContent = ' ';}"
      ],
      "text/plain": [
       "<IPython.core.display.Javascript object>"
      ]
     },
     "metadata": {},
     "output_type": "display_data"
    },
    {
     "data": {
      "application/javascript": [
       "if (typeof Jupyter !== \"undefined\") {require.undef(\"nbextensions/vpython_libraries/glowcomm\");}else{element.textContent = ' ';}"
      ],
      "text/plain": [
       "<IPython.core.display.Javascript object>"
      ]
     },
     "metadata": {},
     "output_type": "display_data"
    },
    {
     "data": {
      "application/javascript": [
       "if (typeof Jupyter !== \"undefined\") {require.undef(\"nbextensions/vpython_libraries/jquery-ui.custom.min\");}else{element.textContent = ' ';}"
      ],
      "text/plain": [
       "<IPython.core.display.Javascript object>"
      ]
     },
     "metadata": {},
     "output_type": "display_data"
    },
    {
     "data": {
      "application/javascript": [
       "if (typeof Jupyter !== \"undefined\") {require([\"nbextensions/vpython_libraries/glow.min\"], function(){console.log(\"GLOW LOADED\");});}else{element.textContent = ' ';}"
      ],
      "text/plain": [
       "<IPython.core.display.Javascript object>"
      ]
     },
     "metadata": {},
     "output_type": "display_data"
    },
    {
     "data": {
      "application/javascript": [
       "if (typeof Jupyter !== \"undefined\") {require([\"nbextensions/vpython_libraries/glowcomm\"], function(){console.log(\"GLOWCOMM LOADED\");});}else{element.textContent = ' ';}"
      ],
      "text/plain": [
       "<IPython.core.display.Javascript object>"
      ]
     },
     "metadata": {},
     "output_type": "display_data"
    },
    {
     "data": {
      "application/javascript": [
       "if (typeof Jupyter !== \"undefined\") {require([\"nbextensions/vpython_libraries/jquery-ui.custom.min\"], function(){console.log(\"JQUERY LOADED\");});}else{element.textContent = ' ';}"
      ],
      "text/plain": [
       "<IPython.core.display.Javascript object>"
      ]
     },
     "metadata": {},
     "output_type": "display_data"
    },
    {
     "data": {
      "text/html": [
       "<div id=\"glowscript\" class=\"glowscript\"></div>"
      ],
      "text/plain": [
       "<IPython.core.display.HTML object>"
      ]
     },
     "metadata": {},
     "output_type": "display_data"
    },
    {
     "data": {
      "application/javascript": [
       "if (typeof Jupyter !== \"undefined\") { window.__context = { glowscript_container: $(\"#glowscript\").removeAttr(\"id\")};}else{ element.textContent = ' ';}"
      ],
      "text/plain": [
       "<IPython.core.display.Javascript object>"
      ]
     },
     "metadata": {},
     "output_type": "display_data"
    }
   ],
   "source": [
    "import matplotlib.pyplot as plt\n",
    "from vpython import *"
   ]
  },
  {
   "cell_type": "markdown",
   "metadata": {},
   "source": [
    "First, the optical system must be set up. I chose the initial conditions where the object is 2 units away from the first lens, and I chose locations and focal lengths for all of the lenses. Then I calculated the distances of each object and image, the total length of the system, and the magnification of the final image. Since I'm interested in simulating the object, all 3 images, and all of the images' magnification, I created a list for each of these values to store their data."
   ]
  },
  {
   "cell_type": "code",
   "execution_count": 2,
   "metadata": {},
   "outputs": [],
   "source": [
    "# Declare variables\n",
    "object_1_distance = 2   # distance from object to lens 1\n",
    "lens_2_distance = 15    # distance from lens 1 to lens 2\n",
    "lens_3_distance = 35    # distance from lens 2 to lens 3\n",
    "focal_length_1 = 10     # focal length of lens 1\n",
    "focal_length_2 = 30     # focal length of lens 2\n",
    "focal_length_3 = 10     # focal length of lens 3\n",
    "\n",
    "# Set up the lens equations\n",
    "image_1_distance = (1 / focal_length_1 - 1 / object_1_distance) ** -1    # Position of the image from lens 1\n",
    "object_2_distance = lens_2_distance - image_1_distance                   # Position of lens 2's object\n",
    "image_2_distance = (1 / focal_length_2 - 1 / object_2_distance) ** -1    # Position of the image from lens 2\n",
    "object_3_distance = lens_3_distance - image_2_distance                   # Position of lens 3's object\n",
    "image_3_distance = (1 / focal_length_3 - 1 / object_3_distance) ** -1    # Position of the image from lens 3\n",
    "\n",
    "# Calculate the magnification of the final image in relation to the initial object\n",
    "magnification = -image_3_distance / object_3_distance\n",
    "\n",
    "# Instantiate lists to be used in the animation\n",
    "obj_dist_list = []\n",
    "img_dist_list = []\n",
    "lens_1_img_list = []\n",
    "lens_2_img_list = []\n",
    "lens_1_img_mag_list = []\n",
    "lens_2_img_mag_list = []\n",
    "mag_list = []"
   ]
  },
  {
   "cell_type": "markdown",
   "metadata": {},
   "source": [
    "Now I can populate the lists with data. The number of times the while loop runs is arbitrary. I chose 2000 because this was the range I saw the most movement in the system. The image will change significantly as the objects moves near the lens' focal point. Before and after this point, the image remains pretty consistent (not much size change, distance, etc.)"
   ]
  },
  {
   "cell_type": "code",
   "execution_count": 3,
   "metadata": {},
   "outputs": [],
   "source": [
    "while len(obj_dist_list) < 2000: \n",
    "    if object_1_distance == focal_length_1:    # object_1_distance appears to be infinite when object_1_distance = focal_length_1, so we choose object_2_distance to be 'infinitely far away' by setting it to be a large number\n",
    "        object_2_distance = 1000000000\n",
    "        \n",
    "    else:\n",
    "        image_1_distance = (1 / focal_length_1 - 1 / object_1_distance) ** -1\n",
    "        object_2_distance = lens_2_distance - image_1_distance\n",
    "    \n",
    "    # Calculate the object / image distances at every step\n",
    "    image_2_distance = (1 / focal_length_2 - 1 / object_2_distance) ** -1\n",
    "    object_3_distance = lens_3_distance - image_2_distance\n",
    "    image_3_distance = (1 / focal_length_3 - 1 / object_3_distance) ** -1\n",
    "    magnification = -image_3_distance / object_3_distance\n",
    "\n",
    "    # Append the calculated values to the animation lists\n",
    "    obj_dist_list.append(object_1_distance)\n",
    "    img_dist_list.append(image_3_distance)\n",
    "    lens_1_img_list.append(image_1_distance)\n",
    "    lens_2_img_list.append(image_2_distance)\n",
    "    mag_list.append(magnification)\n",
    "    lens_1_img_mag_list.append(-image_1_distance / object_1_distance)\n",
    "    lens_2_img_mag_list.append((-image_2_distance / object_2_distance))\n",
    "\n",
    "    object_1_distance += .01"
   ]
  },
  {
   "cell_type": "markdown",
   "metadata": {},
   "source": [
    "Now I can plot the distance of the initial object vs the distnce of the final image, and the distance of the initial object vs the magnification of the final image. This will let me know when the object is crossing over the focal point of the optical system."
   ]
  },
  {
   "cell_type": "code",
   "execution_count": 4,
   "metadata": {},
   "outputs": [
    {
     "data": {
      "image/png": "[encoded data removed]",
      "text/plain": [
       "<Figure size 1332x756 with 2 Axes>"
      ]
     },
     "metadata": {},
     "output_type": "display_data"
    }
   ],
   "source": [
    "# Create sublots of Di vs Do, and magnification vs Do\n",
    "figure, (Di_vs_Do, mag) = plt.subplots(1, 2)\n",
    "Di_vs_Do.plot(obj_dist_list, img_dist_list, lw=3)\n",
    "mag.plot(obj_dist_list, mag_list, lw=3)\n",
    "# Set plot window size and title and save the image\n",
    "figure = plt.gcf()\n",
    "figure.set_size_inches(18.5, 10.5)\n",
    "figure.suptitle('Changing object distance from lens 1', fontsize=24)\n",
    "# Set mag labels and font sizes\n",
    "mag.grid()\n",
    "mag.set_xlabel('Object distance from lens 1 (cm)', fontsize=16)\n",
    "mag.set_ylabel('Final image magnification', fontsize=16)\n",
    "mag.tick_params(labelsize=13)\n",
    "# Set Di_vs_Do labels and font sizes\n",
    "Di_vs_Do.grid()\n",
    "Di_vs_Do.set_xlabel('Object distance from lens 1 (cm)', fontsize=16)\n",
    "Di_vs_Do.set_ylabel('Final image distance (cm)', fontsize=16)\n",
    "Di_vs_Do.tick_params(labelsize=13)\n",
    "plt.show()"
   ]
  },
  {
   "cell_type": "markdown",
   "metadata": {},
   "source": [
    "The graphs show that the object moves over the focal point about halfway through its motion. This is a good range of motion for simulation purposes becuase this showcases the behavior of images as they appear infinitely far away. However, all of the specifications of the system could be tweaked in order to see the behavior of different systems. \n",
    "Start the animation!"
   ]
  },
  {
   "cell_type": "code",
   "execution_count": 5,
   "metadata": {},
   "outputs": [],
   "source": [
    "# Initialize the animation window\n",
    "scene.height = 200\n",
    "scene.width = 950\n",
    "scene.background = color.white\n",
    "scene.userzoom = False\n",
    "scene.autoscale = False\n",
    "scene.center = vector(30, 0, 0)\n",
    "scene.range = 12\n",
    "scene.append_to_caption('Object Distance: %.2f' % obj_dist_list[0] + 'cm\\t\\tFinal Image Distance: %.2f' % img_dist_list[0] + 'cm\\t\\tMagnification: %.2f' % mag_list[0])\n",
    "\n",
    "# Define the default orientation to be used in animating (where the object points upwards)\n",
    "orientation = vector(0, 1, 0)\n",
    "\n",
    "# Create objects representing the lenses\n",
    "# Define the lens positions\n",
    "lens_1_pos = vector(0, 0, 0)\n",
    "lens_2_pos = vector(lens_2_distance, 0, 0)\n",
    "lens_3_pos = vector(lens_2_distance + lens_3_distance, 0, 0)\n",
    "\n",
    "# Create an upward and downward arrow to represent each lens\n",
    "lens_1_a = arrow(pos=lens_1_pos, axis=orientation, color=color.black)\n",
    "lens_1_b = arrow(pos=lens_1_pos, axis=-orientation, color=color.black)\n",
    "lens_2_a = arrow(pos=lens_2_pos, axis=orientation, color=color.black)\n",
    "lens_2_b = arrow(pos=lens_2_pos, axis=-orientation, color=color.black)\n",
    "lens_3_a = arrow(pos=lens_3_pos, axis=orientation, color=color.black)\n",
    "lens_3_b = arrow(pos=lens_3_pos, axis=-orientation, color=color.black)\n",
    "\n",
    "# Create labels at the focal points of each lens\n",
    "f1_label_a = label(pos=vector(focal_length_1, 0, 0), yoffset=-10, box=False, text='f1')\n",
    "f1_label_b = label(pos=vector(-focal_length_1, 0, 0), yoffset=-10, box=False, text='f1')\n",
    "f2_label = label(pos=vector(lens_2_distance + focal_length_2, 0, 0), yoffset=-10, box=False, text='f2')\n",
    "f3_label = label(pos=vector(lens_2_distance + lens_3_distance + focal_length_3, 0, 0), yoffset=-10, box=False, text='f3')\n",
    "\n",
    "# Initialize the animations of the object and object label\n",
    "obj = arrow(pos=vector(-obj_dist_list[0], 0, 0), axis=orientation, color=color.red)\n",
    "obj_label = label(pos=obj.pos, box=False, yoffset=-10, text='Object', color=obj.color)\n",
    "# Initialize the animations of the final image and label\n",
    "image = arrow(pos=vector(lens_2_distance + lens_3_distance + img_dist_list[0], 0, 0), axis=-orientation, length=abs(mag_list[0]), color=color.green)\n",
    "img_label = label(pos=image.pos, box=False, xoffset=20, yoffset=20, text='Final Image', color=image.color)\n",
    "# Initialize the animations of the lens 1 image and label\n",
    "lens_1_image = arrow(pos=vector(lens_1_img_list[0], 0, 0), axis=orientation, color=color.blue)\n",
    "lens_1_image_label = label(pos=lens_1_image.pos, box=False, xoffset=20, yoffset=20, text='Lens 1 Image', color=lens_1_image.color)\n",
    "# Initialize the animations of the lens 2 image and label\n",
    "lens_2_image = arrow(pos=vector(lens_2_distance + lens_2_img_list[0], 0, 0), axis=orientation, color=color.magenta)\n",
    "lens_2_image_label = label(pos=lens_2_image.pos, box=False, xoffset=20, yoffset=-20, text='Lens 2 Image', color=lens_2_image.color)\n",
    "\n",
    "# Pause so the animation window can open before the animation starts\n",
    "time.sleep(2)\n",
    "\n",
    "# Animation loop\n",
    "# Loop through all of the values in obj_dist_list\n",
    "for i in range(len(obj_dist_list)):\n",
    "    # Set animation rate to refresh 80 times per second\n",
    "    rate(80)\n",
    "\n",
    "    # Update the object position\n",
    "    obj_x_pos = -obj_dist_list[i]\n",
    "    obj.pos = vector(obj_x_pos, 0, 0)\n",
    "    obj_label.pos = obj.pos\n",
    "\n",
    "    # Update the final image position, orientation, and size\n",
    "    img_x_pos = img_dist_list[i]\n",
    "    image.pos = vector(lens_2_distance + lens_3_distance + img_x_pos, 0, 0)\n",
    "    img_label.pos = image.pos\n",
    "    if mag_list[i] > 0:\n",
    "        image.axis = orientation\n",
    "    else:\n",
    "        image.axis = -orientation\n",
    "    image.length = abs(mag_list[i])\n",
    "\n",
    "    # Update the lens 1 image position, orientation, and size\n",
    "    lens_1_img_x_pos = lens_1_img_list[i]\n",
    "    lens_1_image.pos = vector(lens_1_img_x_pos, 0, 0)\n",
    "    lens_1_image_label.pos = lens_1_image.pos\n",
    "    if lens_1_img_mag_list[i] > 0:\n",
    "        lens_1_image.axis = orientation\n",
    "    else:\n",
    "        lens_1_image.axis = -orientation\n",
    "    lens_1_image.length = abs(lens_1_img_mag_list[i])\n",
    "\n",
    "    # Update the lens 2 image position, orientation, and size\n",
    "    lens_2_img_x_pos = lens_2_img_list[i]\n",
    "    lens_2_image.pos = vector(lens_2_distance + lens_2_img_x_pos, 0, 0)\n",
    "    lens_2_image_label.pos = lens_2_image.pos\n",
    "    if lens_2_img_mag_list[i] > 0:\n",
    "        lens_2_image.axis = orientation\n",
    "    else:\n",
    "        lens_2_image.axis = -orientation\n",
    "    lens_2_image.length = abs(lens_2_img_mag_list[i])\n",
    "\n",
    "    #Update the caption\n",
    "    scene.caption = ''\n",
    "    scene.append_to_caption('Object Distance: %.2f' % obj_dist_list[i] + 'cm\\t\\tFinal Image Distance: %.2f' % img_dist_list[i] + 'cm\\t\\tMagnification: %.2f' % mag_list[i])"
   ]
  },
  {
   "cell_type": "markdown",
   "metadata": {},
   "source": [
    "The animation plays at the top of the notebook. Try tweaking the system specifications and see how it changes the simulation."
   ]
  }
 ],
 "metadata": {
  "kernelspec": {
   "display_name": "VPython",
   "language": "python",
   "name": "vpython"
  },
  "language_info": {
   "codemirror_mode": {
    "name": "ipython",
    "version": 3
   },
   "file_extension": ".py",
   "mimetype": "text/x-python",
   "name": "python",
   "nbconvert_exporter": "python",
   "pygments_lexer": "ipython3",
   "version": "3.6.5"
  }
 },
 "nbformat": 4,
 "nbformat_minor": 2
}
